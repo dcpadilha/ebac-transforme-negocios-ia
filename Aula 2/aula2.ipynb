{
 "cells": [
  {
   "cell_type": "code",
   "execution_count": null,
   "metadata": {},
   "outputs": [],
   "source": [
    "import json\n",
    "import pandas as pd\n",
    "import numpy as np\n",
    "import opendatasets as od\n",
    "import seaborn as sns\n",
    "\n",
    "import matplotlib.pyplot as plt\n",
    "\n",
    "from utils.attributes import TARGET_COLUMN, SENSITIVE_ATTRIBUTES, NOT_FEATURES, SALARY_MAPPING\n",
    "\n",
    "DATASET_URL = 'https://www.kaggle.com/datasets/datahackers/state-of-data-2022/data'"
   ]
  },
  {
   "cell_type": "code",
   "execution_count": null,
   "metadata": {},
   "outputs": [],
   "source": [
    "# Fazendo download do dataset\n",
    "od.download(DATASET_URL)\n",
    "\n",
    "# Carregando o dataset\n",
    "df = pd.read_csv('state-of-data-2022/State_of_Data_2022.csv')"
   ]
  },
  {
   "cell_type": "code",
   "execution_count": null,
   "metadata": {},
   "outputs": [],
   "source": [
    "# Exibindo as primeiras linhas do dataset\n",
    "df.head(5)"
   ]
  },
  {
   "cell_type": "code",
   "execution_count": null,
   "metadata": {},
   "outputs": [],
   "source": [
    "# Exibindo as colunas do dataset\n",
    "df.columns"
   ]
  },
  {
   "cell_type": "code",
   "execution_count": null,
   "metadata": {},
   "outputs": [],
   "source": [
    "# Mapeando colunas do dataset\n",
    "def get_column_mapping(columns):\n",
    "    column_dict = {}\n",
    "    column_mapping = {}\n",
    "\n",
    "    for column in columns:\n",
    "        column_stripped = column.strip(\"(')\")\n",
    "        column_splitted = column_stripped.replace(\"'\", \"\").split(', ')\n",
    "\n",
    "        column_dict[column_splitted[0].strip()] = ', '.join(column_splitted[1:])\n",
    "        column_mapping[column] = column_splitted[0].strip()\n",
    "\n",
    "    with open('column_mapping.json', 'w', encoding='utf-8') as json_file:\n",
    "        sorted_dict = {k: column_dict[k] for k in sorted(column_dict)}\n",
    "        json.dump(sorted_dict, json_file, ensure_ascii=False, indent=4)\n",
    "\n",
    "    return column_mapping\n",
    "\n",
    "column_mapping = get_column_mapping(df.columns)\n",
    "df = df.rename(columns=column_mapping)"
   ]
  },
  {
   "cell_type": "code",
   "execution_count": null,
   "metadata": {},
   "outputs": [],
   "source": [
    "# Tratando colunas de atributos sensíveis e faixa salarial\n",
    "def treat_sensitive_attributes(df):\n",
    "    df[SENSITIVE_ATTRIBUTES['age']] = df[SENSITIVE_ATTRIBUTES['age']].apply(categorize_age)\n",
    "    df[SENSITIVE_ATTRIBUTES['gender']] = df[SENSITIVE_ATTRIBUTES['gender']].apply(categorize_gender)\n",
    "    df[SENSITIVE_ATTRIBUTES['race_color']] = df[SENSITIVE_ATTRIBUTES['race_color']].apply(categorize_race_color)\n",
    "    df[SENSITIVE_ATTRIBUTES['pwd']] = df[SENSITIVE_ATTRIBUTES['pwd']].apply(categorize_pwd)\n",
    "\n",
    "    return df\n",
    "\n",
    "\n",
    "def categorize_age(age):\n",
    "    if age <= 40:\n",
    "        return '18-40'\n",
    "    elif age > 40:\n",
    "        return '40+'\n",
    "    else:\n",
    "        return 'Sem Resposta'\n",
    "    \n",
    "\n",
    "def categorize_gender(gender):\n",
    "    if gender in ['Masculino', 'Feminino']:\n",
    "        return gender\n",
    "    else:\n",
    "        return 'Sem Resposta'\n",
    "    \n",
    "\n",
    "def categorize_race_color(race_color):\n",
    "    if race_color == 'Branca':\n",
    "        return race_color\n",
    "    elif race_color in ['Parda', 'Preta', 'Amarela', 'Indígena', 'Outra']:\n",
    "        return 'Não Branca'\n",
    "    else:\n",
    "        return 'Sem Resposta'\n",
    "    \n",
    "\n",
    "def categorize_pwd(pwd):\n",
    "    if pwd in ['Sim', 'Não']:\n",
    "        return pwd\n",
    "    else:\n",
    "        return 'Sem Resposta'\n",
    "    \n",
    "def map_salaries(df):\n",
    "    df = df.dropna(subset=['P2_h'])    \n",
    "    df.loc[:, 'P2_h'] = df.loc[:, 'P2_h'].map(SALARY_MAPPING)    \n",
    "    return df    \n",
    "\n",
    "    \n",
    "df = treat_sensitive_attributes(df)\n",
    "print(f'Full dataset shape: {df.shape}')\n",
    "\n",
    "df = map_salaries(df)\n",
    "print(f'Dataset shape after map salaries: {df.shape}')\n"
   ]
  },
  {
   "cell_type": "code",
   "execution_count": null,
   "metadata": {},
   "outputs": [],
   "source": [
    "plt.figure(figsize=(12, 6))\n",
    "sns.countplot(data=df, x='P2_h', palette='viridis')\n",
    "plt.title('Distribuição de Salários')\n",
    "plt.xlabel('Faixa Salarial')\n",
    "plt.ylabel('Quantidade')\n",
    "legend_labels = [f'{value} = {key}' for key, value in SALARY_MAPPING.items()]\n",
    "plt.legend(legend_labels)\n",
    "plt.show()"
   ]
  },
  {
   "cell_type": "code",
   "execution_count": null,
   "metadata": {},
   "outputs": [],
   "source": [
    "plt.figure(figsize=(12, 6))\n",
    "sns.countplot(data=df, x='P2_h', hue='P1_b')\n",
    "plt.title('Distribuição de Salários')\n",
    "plt.xlabel('Faixa Salarial')\n",
    "plt.ylabel('Quantidade')\n",
    "legend_labels = df['P1_b'].unique().tolist()\n",
    "plt.legend(legend_labels)\n",
    "plt.show()"
   ]
  },
  {
   "cell_type": "code",
   "execution_count": null,
   "metadata": {},
   "outputs": [],
   "source": [
    "plt.figure(figsize=(12, 6))\n",
    "sns.countplot(data=df, x='P2_h', hue='P1_a')\n",
    "plt.title('Distribuição de Salários')\n",
    "plt.xlabel('Faixa Salarial')\n",
    "plt.ylabel('Quantidade')\n",
    "legend_labels = df['P1_a'].unique().tolist()\n",
    "plt.legend(legend_labels, title='Idade')\n",
    "plt.show()"
   ]
  },
  {
   "cell_type": "code",
   "execution_count": null,
   "metadata": {},
   "outputs": [],
   "source": [
    "# Removendo colunas que não são features\n",
    "columns_to_drop = list(SENSITIVE_ATTRIBUTES.values()) + list(NOT_FEATURES.keys())   \n",
    "df = df.drop(columns=columns_to_drop) \n",
    "print(f'Dataset shape after drop columns and nan target: {df.shape}')\n",
    "\n",
    "# Salvando dataset tratado\n",
    "df.to_csv('state-of-data-2022/State_of_Data_2022_cleaned.csv', index=False)\n",
    "df.to_excel('state-of-data-2022/State_of_Data_2022_cleaned.xlsx', index=False)"
   ]
  },
  {
   "cell_type": "code",
   "execution_count": null,
   "metadata": {},
   "outputs": [],
   "source": []
  }
 ],
 "metadata": {
  "kernelspec": {
   "display_name": "Python 3",
   "language": "python",
   "name": "python3"
  },
  "language_info": {
   "codemirror_mode": {
    "name": "ipython",
    "version": 3
   },
   "file_extension": ".py",
   "mimetype": "text/x-python",
   "name": "python",
   "nbconvert_exporter": "python",
   "pygments_lexer": "ipython3",
   "version": "3.12.3"
  }
 },
 "nbformat": 4,
 "nbformat_minor": 2
}
